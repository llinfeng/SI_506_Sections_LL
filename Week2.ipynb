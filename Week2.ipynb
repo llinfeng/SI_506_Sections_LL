{
 "cells": [
  {
   "cell_type": "markdown",
   "metadata": {},
   "source": [
    "# Week 2:\n",
    "\n",
    "## Key concepts\n",
    "1. Function / method / function call\n",
    "    1. What’s the difference between function & method\n",
    "    2. How to execute a function vs just assign a function to a variable\n",
    "    3. Any questions regarding the string and list functions mentioned in the reading? (.find()/.index()/.append().....etc)\n",
    "2. Data type: string / list / tuple\n",
    "3. Indexing & Slicing\n"
   ]
  },
  {
   "cell_type": "markdown",
   "metadata": {},
   "source": [
    "## Playground\n",
    "For demonstrating things on the fly"
   ]
  },
  {
   "cell_type": "code",
   "execution_count": 2,
   "metadata": {},
   "outputs": [
    {
     "name": "stdout",
     "output_type": "stream",
     "text": [
      "[1, 2, 3, [4]]\n"
     ]
    }
   ],
   "source": [
    "a_list = [1,2,3]\n",
    "a_list.append([4])\n",
    "print(a_list)\n"
   ]
  },
  {
   "cell_type": "markdown",
   "metadata": {},
   "source": [
    "## Exercise 1"
   ]
  },
  {
   "cell_type": "markdown",
   "metadata": {},
   "source": [
    "Translate this English to code. Why did you choose this way? Can you explain to\n",
    "one another what you're doing?  Write out your decisions in code or write your\n",
    "plan for writing code in outline form / diagram.\n",
    "\n",
    "I have a list of elements that are all strings. I want to add together all of\n",
    "the lengths of each string. So for example, if I had this list: [\"hello\", \"hi\",\n",
    "\"to\", \"you\"], I want to add up all the lengths of those words and print them out\n",
    "-- 12.\n"
   ]
  },
  {
   "cell_type": "code",
   "execution_count": 49,
   "metadata": {},
   "outputs": [
    {
     "name": "stdout",
     "output_type": "stream",
     "text": [
      "1\n",
      "1\n"
     ]
    }
   ],
   "source": [
    "a_list = ['hello', 'hi', 'to', 'you']\n",
    "# Want to know the length\n",
    "empty_string = \"1\"\n",
    "print(empty_string)\n",
    "len(empty_string.join(a_list))\n",
    "print(empty_string)"
   ]
  },
  {
   "cell_type": "code",
   "execution_count": 9,
   "metadata": {},
   "outputs": [
    {
     "name": "stdout",
     "output_type": "stream",
     "text": [
      "5\n",
      "2\n",
      "2\n",
      "3\n",
      "12\n"
     ]
    }
   ],
   "source": [
    "## \n",
    "acuumulator = 0\n",
    "for element in a_list:\n",
    "    print(len(element))\n",
    "    acuumulator = acuumulator + len(element)\n",
    "    acuumulator += len(element)\n",
    "print(acuumulator)"
   ]
  },
  {
   "cell_type": "markdown",
   "metadata": {},
   "source": [
    "----\n",
    "## EXERCISE 2\n",
    "\n",
    "Work with your neighbor or in groups and try to work through the worksheet and\n",
    "answer the questions. If you can’t get the answer immediately, make a guess and\n",
    "discuss with your group.\n",
    "\n",
    "ab = [4, 3, 2, 1, 0]"
   ]
  },
  {
   "cell_type": "markdown",
   "metadata": {},
   "source": [
    "'1. How would you get just the integer 4 from that list?"
   ]
  },
  {
   "cell_type": "code",
   "execution_count": 13,
   "metadata": {},
   "outputs": [
    {
     "data": {
      "text/plain": [
       "4"
      ]
     },
     "execution_count": 13,
     "metadata": {},
     "output_type": "execute_result"
    }
   ],
   "source": [
    "ab = [4, 3, 2, 1, 0]\n",
    "ab[0]\n",
    "ab[ab.index(4)]"
   ]
  },
  {
   "cell_type": "markdown",
   "metadata": {},
   "source": [
    "'2. How would you get a list of the elements [4, 3]?"
   ]
  },
  {
   "cell_type": "code",
   "execution_count": 16,
   "metadata": {},
   "outputs": [
    {
     "data": {
      "text/plain": [
       "[4, 3]"
      ]
     },
     "execution_count": 16,
     "metadata": {},
     "output_type": "execute_result"
    }
   ],
   "source": [
    "ab[0:2]\n",
    "ab[:2]"
   ]
  },
  {
   "cell_type": "markdown",
   "metadata": {},
   "source": [
    "----\n",
    "new_lst = [[“hi”, “106”, 110], 5, “bye”, []]\n",
    "\n",
    "'3. How would you get just the list [“hi”,”106”, 110]?"
   ]
  },
  {
   "cell_type": "code",
   "execution_count": 24,
   "metadata": {},
   "outputs": [
    {
     "name": "stdout",
     "output_type": "stream",
     "text": [
      "<class 'list'>\n"
     ]
    }
   ],
   "source": [
    "new_lst = [[\"hi\", \"106\", 110], 5, \"bye\", []]\n",
    "len(new_lst)\n",
    "print(type(new_lst[-1]))"
   ]
  },
  {
   "cell_type": "markdown",
   "metadata": {},
   "source": [
    "'4. How would you get a list with the elements [5, “bye”]?"
   ]
  },
  {
   "cell_type": "code",
   "execution_count": 27,
   "metadata": {},
   "outputs": [
    {
     "data": {
      "text/plain": [
       "[5, 'bye']"
      ]
     },
     "execution_count": 27,
     "metadata": {},
     "output_type": "execute_result"
    }
   ],
   "source": [
    "new_lst[1:3]"
   ]
  },
  {
   "cell_type": "markdown",
   "metadata": {},
   "source": [
    "'5. There are two ways to get the string “bye” from the list. What are they?"
   ]
  },
  {
   "cell_type": "code",
   "execution_count": 31,
   "metadata": {},
   "outputs": [
    {
     "data": {
      "text/plain": [
       "'bye'"
      ]
     },
     "execution_count": 31,
     "metadata": {},
     "output_type": "execute_result"
    }
   ],
   "source": [
    "new_lst[-2]\n",
    "new_lst[2]\n",
    "new_lst[new_lst.index('bye')]"
   ]
  },
  {
   "cell_type": "markdown",
   "metadata": {},
   "source": [
    "'6. What type is the evaluation of the expression new_lst[-2:]?"
   ]
  },
  {
   "cell_type": "code",
   "execution_count": 32,
   "metadata": {},
   "outputs": [
    {
     "data": {
      "text/plain": [
       "list"
      ]
     },
     "execution_count": 32,
     "metadata": {},
     "output_type": "execute_result"
    }
   ],
   "source": [
    "type(new_lst[-2:])"
   ]
  },
  {
   "cell_type": "markdown",
   "metadata": {},
   "source": [
    "'7. What type is the evaluation of the expression new_lst[1]?"
   ]
  },
  {
   "cell_type": "code",
   "execution_count": 42,
   "metadata": {},
   "outputs": [
    {
     "data": {
      "text/plain": [
       "float"
      ]
     },
     "execution_count": 42,
     "metadata": {},
     "output_type": "execute_result"
    }
   ],
   "source": [
    "something_new = float(new_lst[1] + 1.01)\n",
    "type(something_new)"
   ]
  },
  {
   "cell_type": "markdown",
   "metadata": {},
   "source": [
    "'8. How would you get the index (the number) of the 5? "
   ]
  },
  {
   "cell_type": "code",
   "execution_count": 43,
   "metadata": {},
   "outputs": [
    {
     "data": {
      "text/plain": [
       "1"
      ]
     },
     "execution_count": 43,
     "metadata": {},
     "output_type": "execute_result"
    }
   ],
   "source": [
    "new_lst.index(5)"
   ]
  },
  {
   "cell_type": "markdown",
   "metadata": {},
   "source": [
    "'9. How would you add the string “see ya” to the end of  new_lst?"
   ]
  },
  {
   "cell_type": "code",
   "execution_count": 48,
   "metadata": {},
   "outputs": [
    {
     "name": "stdout",
     "output_type": "stream",
     "text": [
      "[['hi', '106', 110], 5, 'bye', []]\n",
      "[['hi', '106', 110], 5, 'bye', [], 'see ya']\n"
     ]
    }
   ],
   "source": [
    "new_lst = [[\"hi\", \"106\", 110], 5, \"bye\", []]\n",
    "print(new_lst)\n",
    "new_lst.append(\"see ya\")\n",
    "print(new_lst)"
   ]
  },
  {
   "cell_type": "markdown",
   "metadata": {},
   "source": [
    "----\n",
    "str_new = “Why, the sea is boiling hot!”"
   ]
  },
  {
   "cell_type": "markdown",
   "metadata": {},
   "source": [
    "'10. How would you find the last character of this string str_new?"
   ]
  },
  {
   "cell_type": "code",
   "execution_count": 58,
   "metadata": {},
   "outputs": [
    {
     "data": {
      "text/plain": [
       "'!'"
      ]
     },
     "execution_count": 58,
     "metadata": {},
     "output_type": "execute_result"
    }
   ],
   "source": [
    "str_new = \"Why, the sea is boiling hot!\"\n",
    "str_new[-1]\n",
    "str_new[str_new.index('!')]\n",
    "str_new[len(str_new)-1]"
   ]
  },
  {
   "cell_type": "markdown",
   "metadata": {},
   "source": [
    "'11. How would you find the sixth (as HUMANS count) character of this string?\n"
   ]
  },
  {
   "cell_type": "code",
   "execution_count": 59,
   "metadata": {},
   "outputs": [
    {
     "data": {
      "text/plain": [
       "'t'"
      ]
     },
     "execution_count": 59,
     "metadata": {},
     "output_type": "execute_result"
    }
   ],
   "source": [
    "str_new[5]"
   ]
  },
  {
   "cell_type": "markdown",
   "metadata": {},
   "source": [
    "'12. How would you get a list \n",
    "```\n",
    "  Why,    the    sea   is   boiling   hot!\n",
    "[“Why,”, “the”, “sea”,”is”,”boiling”,”hot!”]?\n",
    "```"
   ]
  },
  {
   "cell_type": "code",
   "execution_count": 62,
   "metadata": {},
   "outputs": [
    {
     "data": {
      "text/plain": [
       "['Why,', 'the', 'sea', 'is', 'boiling', 'hot!']"
      ]
     },
     "execution_count": 62,
     "metadata": {},
     "output_type": "execute_result"
    }
   ],
   "source": [
    "str_new.split()"
   ]
  },
  {
   "cell_type": "markdown",
   "metadata": {},
   "source": [
    "'13. What about to get a list \n",
    "```\n",
    "[“Why”, “ the sea is boiling hot!”]?\n",
    "```"
   ]
  },
  {
   "cell_type": "code",
   "execution_count": 63,
   "metadata": {},
   "outputs": [
    {
     "data": {
      "text/plain": [
       "['Why', ' the sea is boiling hot!']"
      ]
     },
     "execution_count": 63,
     "metadata": {},
     "output_type": "execute_result"
    }
   ],
   "source": [
    "str_new.split(',')"
   ]
  },
  {
   "cell_type": "markdown",
   "metadata": {},
   "source": [
    "'14. How would you get just the string “the sea is boiling hot!”?"
   ]
  },
  {
   "cell_type": "code",
   "execution_count": 69,
   "metadata": {},
   "outputs": [
    {
     "name": "stdout",
     "output_type": "stream",
     "text": [
      "the sea is boiling hot!\n",
      "the sea is boiling hot!\n"
     ]
    }
   ],
   "source": [
    "print(str_new.split(',')[1][1:])\n",
    "\n",
    "a_new_list =  str_new.split(',')\n",
    "raw_string = a_new_list[1]\n",
    "the_string = raw_string[1:]\n",
    "print(the_string)"
   ]
  },
  {
   "cell_type": "markdown",
   "metadata": {},
   "source": [
    "'15. How would you get the index of the first ‘t’ character in the string?\n",
    "    (That’s a lowercase ‘t’)"
   ]
  },
  {
   "cell_type": "code",
   "execution_count": 70,
   "metadata": {},
   "outputs": [
    {
     "data": {
      "text/plain": [
       "5"
      ]
     },
     "execution_count": 70,
     "metadata": {},
     "output_type": "execute_result"
    }
   ],
   "source": [
    "str_new.find('t')"
   ]
  },
  {
   "cell_type": "markdown",
   "metadata": {},
   "source": [
    "'16. How would you produce the string “WhyWhyWhy” from the string str_new?"
   ]
  },
  {
   "cell_type": "code",
   "execution_count": 71,
   "metadata": {},
   "outputs": [
    {
     "data": {
      "text/plain": [
       "'WhyWhyWhyWhyWhy'"
      ]
     },
     "execution_count": 71,
     "metadata": {},
     "output_type": "execute_result"
    }
   ],
   "source": [
    "'Why'*5"
   ]
  },
  {
   "cell_type": "markdown",
   "metadata": {},
   "source": [
    "'17. What will the following lines of code output? \n",
    "```\n",
    "for character in str_new[:4]: \n",
    "    print(character)\n",
    "```"
   ]
  },
  {
   "cell_type": "code",
   "execution_count": 72,
   "metadata": {},
   "outputs": [
    {
     "name": "stdout",
     "output_type": "stream",
     "text": [
      "W\n",
      "h\n",
      "y\n",
      ",\n"
     ]
    }
   ],
   "source": [
    "for character in str_new[:4]: \n",
    "    print(character)"
   ]
  },
  {
   "cell_type": "code",
   "execution_count": null,
   "metadata": {},
   "outputs": [],
   "source": []
  }
 ],
 "metadata": {
  "kernelspec": {
   "display_name": "Python 3",
   "language": "python",
   "name": "python3"
  },
  "language_info": {
   "codemirror_mode": {
    "name": "ipython",
    "version": 3
   },
   "file_extension": ".py",
   "mimetype": "text/x-python",
   "name": "python",
   "nbconvert_exporter": "python",
   "pygments_lexer": "ipython3",
   "version": "3.6.6"
  }
 },
 "nbformat": 4,
 "nbformat_minor": 2
}
